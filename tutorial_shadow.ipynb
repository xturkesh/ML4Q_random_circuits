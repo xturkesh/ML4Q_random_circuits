{
 "cells": [
  {
   "cell_type": "markdown",
   "metadata": {},
   "source": [
    "# Tutorial: Classical Shadow Tomography\n",
    "In this tutorial we will explore shadow tomography using global and pauli ensembles. \n",
    "This is implemented via `stim`. All the code should be clear, except perhaps the utility `amplitude_of_state` that outputs $|\\langle b| \\psi\\rangle|$. "
   ]
  },
  {
   "cell_type": "code",
   "execution_count": 14,
   "metadata": {},
   "outputs": [],
   "source": [
    "import stim \n",
    "import numpy as np \n",
    "from typing import List, Tuple\n",
    "\n",
    "def amplitude_of_state(state: stim.TableauSimulator,desired_state: List[bool]) -> complex:\n",
    "  n = state.num_qubits\n",
    "  copy = state.copy()\n",
    "  num_random = 0\n",
    "  for q in range(n)[::-1]:\n",
    "    desired_bit = desired_state[q]\n",
    "    z = copy.peek_z(q)\n",
    "    is_random = z == 0\n",
    "    forced_bit = z == -1\n",
    "    if is_random:\n",
    "      num_random += 1\n",
    "    elif desired_bit != forced_bit:\n",
    "      return 0\n",
    "    copy.postselect_z(q, desired_value=desired_bit)\n",
    "  magnitude = 2**(-(num_random / 2))\n",
    "  return magnitude"
   ]
  },
  {
   "cell_type": "markdown",
   "metadata": {},
   "source": [
    "## Implementation\n",
    "Let us define the state of interest: a noisy GHZ state. The implementation follows the trivial, depth $N$ quantum circuit (see Lecture Notes). As noise model, we consider a depolarizing channel randomly acting on one qubit in the GHZ state with probability `probability_fault`."
   ]
  },
  {
   "cell_type": "code",
   "execution_count": 2,
   "metadata": {},
   "outputs": [
    {
     "data": {
      "text/html": [
       "<pre>q0: -H-@-@-@-\n",
       "       | | |\n",
       "q1: ---X-|-|-\n",
       "         | |\n",
       "q2: -----X-|-\n",
       "           |\n",
       "q3: -------X-</pre>"
      ],
      "text/plain": [
       "q0: -H-@-@-@-\n",
       "       | | |\n",
       "q1: ---X-|-|-\n",
       "         | |\n",
       "q2: -----X-|-\n",
       "           |\n",
       "q3: -------X-"
      ]
     },
     "execution_count": 2,
     "metadata": {},
     "output_type": "execute_result"
    }
   ],
   "source": [
    "def prepare_state_ghz(N,probability_fault=0):\n",
    "  psi = stim.TableauSimulator()\n",
    "  psi.set_num_qubits(N)\n",
    "  psi.h(0)\n",
    "  for i in range(1,N):\n",
    "    psi.cx(0,i)\n",
    "  psi.depolarize1(np.random.randint(N),p=probability_fault)\n",
    "  return psi\n",
    "\n",
    "#example for N=4 qubit and without noise\n",
    "prepare_state_ghz(4,0).current_inverse_tableau().inverse().to_circuit().diagram()"
   ]
  },
  {
   "cell_type": "markdown",
   "metadata": {},
   "source": [
    "We will consider two type of snapshots: (i) those obtained from the global Clifford ensemble $C\\in\\mathcal{C}_N$, and (ii) those obtained as a tensor product $C=C_1\\otimes C_2\\otimes \\cdots \\otimes C_N$ with each $C_i\\in \\mathcal{C}_1$ a single qubit random Clifford gate.\n",
    "For the global, we recall the inverse channel generate the classical snapshot \n",
    "$$\\hat{\\rho} = (2^N+1) C^\\dagger|b\\rangle\\langle b| C - \\mathbb{I}\\;,$$\n",
    "for a given realization of the Clifford unitary $C$ and of the measurement result $|b\\rangle$. \n",
    "\n",
    "For the local case, we have instead\n",
    "$$\\hat{\\rho} = \\bigotimes_{r=1}^N \\left[3 C_r^\\dagger|b_r\\rangle\\langle b_r| C_r - \\mathbb{I}\\right]\\;,$$\n",
    "where $C_r$ are the single qubit Clifford gates, and $b_r$ is the binary measurement result at site $r$. \n",
    "\n",
    "The function `global_classical_snapshot` gives a sample of pairs $\\{(b^{(j)},C^{(j)})\\}_{j=1,\\dots,N_\\mathrm{sample}}$. Similarly, the function `local_classical_snapshot` gives a sample of pairs $\\{(b^{(j)},\\{C_r^{(j)})\\}_{r=1,\\dots,N}\\}_{j=1,\\dots,N_\\mathrm{sample}}$, with the second element of each pair being the list of local Clifford gate."
   ]
  },
  {
   "cell_type": "code",
   "execution_count": 3,
   "metadata": {},
   "outputs": [],
   "source": [
    "def global_classical_snapshot(psi: stim.TableauSimulator, sample_size: int =50) -> List[Tuple[List,stim.TableauSimulator]]:\n",
    "  N = psi.num_qubits\n",
    "  targets = list(range(N))\n",
    "  pairs = []\n",
    "  for _ in range(sample_size):\n",
    "    U = stim.Tableau.random(N)\n",
    "    phi = psi.copy()\n",
    "    phi.do_tableau(U,targets)\n",
    "    b = phi.measure_many(*targets)\n",
    "    pairs.append((b,U))\n",
    "  return pairs\n",
    "\n",
    "def local_classical_snapshot(psi: stim.TableauSimulator, sample_size: int =50) -> List[Tuple[List,List[stim.TableauSimulator]]]:\n",
    "  N = psi.num_qubits\n",
    "  targets = list(range(N))\n",
    "  pairs = []\n",
    "  for _ in range(sample_size):\n",
    "    phi = psi.copy()\n",
    "    Us = [] \n",
    "    for r in range(N):\n",
    "      U = stim.Tableau.random(1)\n",
    "      Us.append(U)\n",
    "      phi.do_tableau(U,[r])\n",
    "    b = phi.measure_many(*targets)\n",
    "    pairs.append((b,Us))\n",
    "  return pairs"
   ]
  },
  {
   "cell_type": "markdown",
   "metadata": {},
   "source": [
    "The classical snapshot allow us to postprocess the data to compute expectation values of observables $\\mathrm{tr}(O\\rho) = \\mathbb{E}[\\mathrm{tr}(O\\hat{\\rho})]$. \n",
    "For the fidelity with a given reference state $|phi\\rangle$, defined as $F=|\\langle \\phi | \\psi\\rangle|^2$ we will use the global estimator. \n",
    "\n",
    "\n",
    "For a sample of $M$ snapshots, we consider the estimator\n",
    "\n",
    "$\\displaystyle F_\\mathrm{est}= \\frac{1}{M} \\sum_{m=1}^M \\left[(2^N+1) |\\langle \\phi | U^\\dagger |b\\rangle|^2 - 1 \\right] = \\frac{1}{M} \\sum_{m=1}^M \\left((2^N+1) |\\langle b | U |\\phi\\rangle|^2 - 1 \\right)$."
   ]
  },
  {
   "cell_type": "code",
   "execution_count": 4,
   "metadata": {},
   "outputs": [],
   "source": [
    "def global_fidelity_estimator(psi_target: stim.TableauSimulator,pairs):\n",
    "  F_estimator = 0 \n",
    "  N = psi_target.num_qubits\n",
    "  for (b,U) in pairs:\n",
    "    phi = psi_target.copy()\n",
    "    phi.do_tableau(U,range(N))\n",
    "    F_estimator+= (2**N+1)*amplitude_of_state(phi,b)**2 -1 \n",
    "  return F_estimator/len(pairs) "
   ]
  },
  {
   "cell_type": "markdown",
   "metadata": {},
   "source": [
    "For a Pauli string observable $P$, we will consider both global and local estimators, respectively reading\n",
    "\n",
    "$\\displaystyle O_\\mathrm{est}= \\frac{1}{M} \\sum_{m=1}^M \\left[(2^N+1) \\langle b |U P U^\\dagger |b\\rangle\\right]\\;,$ and \n",
    "\n",
    "$\\displaystyle O_\\mathrm{est}= \\frac{1}{M} \\sum_{m=1}^M \\prod_{r=1}^N \\left[(2^N+1) \\langle b_r |C_r P_r C_r^\\dagger |b_r\\rangle - \\mathrm{tr}(P_r)\\right]\\;,$"
   ]
  },
  {
   "cell_type": "code",
   "execution_count": 5,
   "metadata": {},
   "outputs": [],
   "source": [
    "def global_observable_estimator(pauli: stim.PauliString, pairs: List[Tuple[List,stim.Tableau]]):\n",
    "  O_estimator = 0 \n",
    "  for (b,U) in pairs:\n",
    "    N = len(b)\n",
    "    phi = stim.TableauSimulator()\n",
    "    phi.set_num_qubits(N)\n",
    "    phi.x(*np.nonzero(b)[0])\n",
    "    phi.do_tableau(U.inverse(),range(N))\n",
    "    O_estimator += (2**N+1)*phi.peek_observable_expectation(pauli)\n",
    "  return O_estimator/len(pairs) \n",
    "\n",
    "def local_observable_estimator(pauli: stim.PauliString, pairs: List[Tuple[List,List[stim.Tableau]]]):\n",
    "  O_estimator = 0 \n",
    "  for (b,Us) in pairs:\n",
    "    O_local = 1 \n",
    "    for (bi,U,P) in zip(b,Us,pauli):\n",
    "      phi = stim.TableauSimulator()\n",
    "      if (bi):\n",
    "        phi.x(0)\n",
    "      phi.do_tableau(U.inverse(),[0])\n",
    "      if (P):\n",
    "        O_local*=3*phi.peek_observable_expectation(stim.PauliString([P]))\n",
    "    O_estimator+= O_local\n",
    "  return O_estimator/len(pairs)"
   ]
  },
  {
   "cell_type": "markdown",
   "metadata": {},
   "source": [
    "We collect all the previous functions to `fidelity_shadow_tomography`, `global_observable_shadow_tomography`, and `local_observable_shadow_tomography`. "
   ]
  },
  {
   "cell_type": "code",
   "execution_count": 6,
   "metadata": {},
   "outputs": [],
   "source": [
    "def fidelity_shadow_tomography(psi_input: stim.TableauSimulator, psi_target: stim.TableauSimulator, sample_size: int =100, number_shots: int =100,) -> Tuple[float,float]:\n",
    "  F_estimators = []\n",
    "  for m in range(number_shots):\n",
    "    snapshot=global_classical_snapshot(psi_input,sample_size=sample_size)\n",
    "    F_estimators.append(global_fidelity_estimator(psi_target,snapshot))\n",
    "  return (np.mean(F_estimators), np.std(F_estimators)/np.sqrt(sample_size-1))\n",
    "\n",
    "def global_observable_shadow_tomography(psi_input: stim.TableauSimulator, pauli: stim.PauliString, sample_size: int =100, number_shots: int =100,) -> Tuple[float,float]:\n",
    "  O_estimators = []\n",
    "  for m in range(number_shots):\n",
    "    snapshot=global_classical_snapshot(psi_input,sample_size=sample_size)\n",
    "    O_estimators.append(global_observable_estimator(pauli,snapshot))\n",
    "  return (np.mean(O_estimators), np.std(O_estimators)/np.sqrt(sample_size-1))\n",
    "\n",
    "def local_observable_shadow_tomography(psi_input: stim.TableauSimulator, pauli: stim.PauliString, sample_size: int=100, number_shots: int=100,) -> Tuple[float,float]:\n",
    "  O_estimators = []\n",
    "  for m in range(number_shots):\n",
    "    snapshot=local_classical_snapshot(psi_input,sample_size=sample_size)\n",
    "    O_estimators.append(local_observable_estimator(pauli,snapshot))\n",
    "  return (np.mean(O_estimators), np.std(O_estimators)/np.sqrt(sample_size-1))"
   ]
  },
  {
   "cell_type": "markdown",
   "metadata": {},
   "source": [
    "## Analysis\n",
    "Now we are in position to test the shadow tomography protocol. For the fidelity, we consider the global Clifford transformation. The shadow norm is guaranteed to be $\\| |\\phi\\rangle\\langle \\phi|\\|_\\mathrm{shadow} \\le 3 \\mathrm{tr}(|\\phi\\rangle\\langle \\phi|^2) = 3.$\n",
    "In particular, increasing system size, the error should fluctuate around the same value (fixed by the choise of $M=N_\\mathrm{sample}$ and $K=N_\\mathrm{shots}$)."
   ]
  },
  {
   "cell_type": "code",
   "execution_count": 13,
   "metadata": {},
   "outputs": [
    {
     "name": "stdout",
     "output_type": "stream",
     "text": [
      "2 1.004375 0.010538492155863282\n",
      "4 0.9941 0.012630381641266444\n",
      "6 0.978640625 0.014367008665453412\n",
      "8 1.0127316406250002 0.014410527988301511\n",
      "10 0.9939453125 0.014017282436437541\n",
      "12 0.997487548828125 0.01290957409535943\n"
     ]
    }
   ],
   "source": [
    "for N in range(2,14,2):\n",
    "  psi_ideal= prepare_state_ghz(N,0)\n",
    "  psi_input = psi_ideal.copy()\n",
    "  mean, err = fidelity_shadow_tomography(psi_input,psi_ideal,)\n",
    "  print(N,mean,err)"
   ]
  },
  {
   "cell_type": "markdown",
   "metadata": {},
   "source": [
    "Viceversa, for Pauli expectation values, the shadow norm explodes:\n",
    "$\\| P\\|_\\mathrm{shadow} \\le 3 \\mathrm{tr}(P^2) = 3\\; \\mathrm{tr}(\\mathbb{I}) = 3 \\times 2^N$.\n",
    "So, increasing system size, the error will increase exponentially fast, *de facto* killing the employability of the method."
   ]
  },
  {
   "cell_type": "code",
   "execution_count": 8,
   "metadata": {},
   "outputs": [
    {
     "name": "stdout",
     "output_type": "stream",
     "text": [
      "Local pauli string\n",
      "2 0.9655000000000002 0.02000877332824304\n",
      "4 1.0471999999999997 0.040048980112866894\n",
      "6 1.079 0.09015189202875133\n",
      "8 1.2335999999999998 0.17319233892590707\n",
      "10 1.1275 0.382550171661684\n",
      "12 3.2776 1.1170877100385588\n",
      "Global pauli string\n",
      "2 1.0085000000000002 0.021118413144395432\n",
      "4 1.0097999999999998 0.03864680263017051\n",
      "6 1.0725000000000002 0.08975098828976702\n",
      "8 0.8480999999999997 0.15945384658865772\n",
      "10 1.025 0.3090491281922077\n",
      "12 0.4097 0.4097\n"
     ]
    }
   ],
   "source": [
    "print(\"Local pauli string\")\n",
    "for N in range(2,14,2):\n",
    "  psi_ideal= prepare_state_ghz(N,0)\n",
    "  psi_input = psi_ideal.copy()\n",
    "  pauli = stim.PauliString([3,3]+[0]*(N-2))\n",
    "  mean, err = global_observable_shadow_tomography(psi_input,pauli,)\n",
    "  print(N,mean,err)\n",
    "\n",
    "print(\"Global pauli string\")\n",
    "for N in range(2,14,2):\n",
    "  psi_ideal= prepare_state_ghz(N,0)\n",
    "  psi_input = psi_ideal.copy()\n",
    "  pauli = stim.PauliString([1]*N)\n",
    "  mean, err = global_observable_shadow_tomography(psi_input,pauli,)\n",
    "  print(N,mean,err)"
   ]
  },
  {
   "cell_type": "markdown",
   "metadata": {},
   "source": [
    "Using instead local Clifford operations, the shadow tomography efficacy is fixed by the weight $w(P)$ of the Pauli string (number of Pauli matrices in the string that are non-identity): $\\| P\\|_\\mathrm{shadow} \\le 4^{w(P)}\\|P\\|_\\infty^2 = 4^{w(P)}$.\n",
    "So, we expect the value to be constant for a given Pauli weight string, and to increase exponentially with system size for any Pauli string sufficiently distributed along the system. "
   ]
  },
  {
   "cell_type": "code",
   "execution_count": 9,
   "metadata": {},
   "outputs": [
    {
     "name": "stdout",
     "output_type": "stream",
     "text": [
      "Local pauli string. The exact value of reference for the expectation value is 1.\n",
      "2 1.0125000000000002 0.027831881653306093\n",
      "4 0.9837 0.02650315590127471\n",
      "6 1.035 0.029240383034426887\n",
      "8 1.0116 0.02526614695235864\n",
      "10 0.9810000000000001 0.030392881941784865\n",
      "12 0.9828 0.025860183504938457\n",
      "Global pauli string. The exact value of reference for the expectation value is 1.\n",
      "2 1.0197 0.02752682988715489\n",
      "4 0.9234000000000003 0.07724763014899787\n",
      "6 0.9477000000000001 0.28668008619048135\n",
      "8 1.3122 0.9231674348281964\n",
      "10 0.0 0.0\n",
      "12 0.0 0.0\n"
     ]
    }
   ],
   "source": [
    "print(\"Local pauli string. The exact value of reference for the expectation value is 1.\")\n",
    "for N in range(2,14,2):\n",
    "  psi_ideal= prepare_state_ghz(N,0)\n",
    "  psi_input = psi_ideal.copy()\n",
    "  pauli = stim.PauliString([3,3]+[0]*(N-2))\n",
    "  mean, err = local_observable_shadow_tomography(psi_input,pauli,)\n",
    "  print(N,mean,err)\n",
    "\n",
    "print(\"Global pauli string. The exact value of reference for the expectation value is 1.\")\n",
    "for N in range(2,14,2):\n",
    "  psi_ideal= prepare_state_ghz(N,0)\n",
    "  psi_input = psi_ideal.copy()\n",
    "  pauli = stim.PauliString([1]*N)\n",
    "  mean, err = local_observable_shadow_tomography(psi_input,pauli,)\n",
    "  print(N,mean,err)"
   ]
  },
  {
   "cell_type": "markdown",
   "metadata": {},
   "source": [
    "Finally, we consider the case our state is faulty. This is exactly the reason why often we consider $|\\psi_\\mathrm{input}\\rangle$ as the target for the fidelity. In general, because of noise $|\\psi_\\mathrm{input}\\rangle\\langle \\psi_\\mathrm{input}| = |\\psi_\\mathrm{target}\\rangle \\langle \\psi_\\mathrm{target}| + \\varepsilon \\delta \\rho$. "
   ]
  },
  {
   "cell_type": "code",
   "execution_count": 10,
   "metadata": {},
   "outputs": [],
   "source": [
    "psi_ideal= prepare_state_ghz(4,0)\n",
    "probability_fault = 0.05 # 5% error\n",
    "\n",
    "target_benchmark = []\n",
    "target_benchmark_error = []\n",
    "for _ in range(100):\n",
    "  psi_noisy = prepare_state_ghz(4,probability_fault=probability_fault)\n",
    "  mean, err = fidelity_shadow_tomography(psi_noisy,psi_target=psi_ideal)\n",
    "  target_benchmark.append(mean)\n",
    "  target_benchmark_error.append(err)"
   ]
  },
  {
   "cell_type": "code",
   "execution_count": 12,
   "metadata": {},
   "outputs": [
    {
     "name": "stdout",
     "output_type": "stream",
     "text": [
      "Ideal fidelity 1, vs noisy case:\n",
      "0.9607757499999999\n"
     ]
    }
   ],
   "source": [
    "print(\"Ideal fidelity 1, vs noisy case:\")\n",
    "print(np.mean(target_benchmark))"
   ]
  },
  {
   "cell_type": "code",
   "execution_count": null,
   "metadata": {},
   "outputs": [],
   "source": []
  }
 ],
 "metadata": {
  "kernelspec": {
   "display_name": "base",
   "language": "python",
   "name": "python3"
  },
  "language_info": {
   "codemirror_mode": {
    "name": "ipython",
    "version": 3
   },
   "file_extension": ".py",
   "mimetype": "text/x-python",
   "name": "python",
   "nbconvert_exporter": "python",
   "pygments_lexer": "ipython3",
   "version": "3.11.8"
  }
 },
 "nbformat": 4,
 "nbformat_minor": 2
}
