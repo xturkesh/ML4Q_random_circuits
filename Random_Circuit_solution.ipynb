{
 "cells": [
  {
   "cell_type": "markdown",
   "id": "557944cd",
   "metadata": {},
   "source": [
    "# Qiskit implementation (solution): entanglement propagation in random quantum circuits"
   ]
  },
  {
   "cell_type": "markdown",
   "id": "679316a5",
   "metadata": {},
   "source": [
    "Assumption: you have a brief introduction on qiskit in Aachen. Our goal here is to implement a random quantum circuit and study the entanglement evolution in a many-body system."
   ]
  },
  {
   "cell_type": "code",
   "execution_count": 1,
   "id": "08509e6d",
   "metadata": {
    "tags": []
   },
   "outputs": [],
   "source": [
    "%%capture\n",
    "!python3 -m venv ./qi\n",
    "!source ./qi/bin/activate\n",
    "!pip install 'qiskit[visualization]'"
   ]
  },
  {
   "cell_type": "code",
   "execution_count": 2,
   "id": "4dd136fb",
   "metadata": {},
   "outputs": [],
   "source": [
    "import qiskit as qi\n",
    "import numpy as np\n",
    "import matplotlib.pyplot as plt\n",
    "from IPython.display import display\n",
    "import itertools as it"
   ]
  },
  {
   "cell_type": "markdown",
   "id": "faad4f82",
   "metadata": {},
   "source": [
    "## **Task 1**\n",
    "\n",
    "1. Create a circuit that generate a random state on $N$ qubits.\n",
    "2. Write a function to compute the reduced purity given a state $|\\Psi\\rangle$ over the subsystem $A$. \n",
    "3. Write function that given a subsystem $A$ of size $N_A$, and total size $N$, and $\\mathcal{N}$ disorder realization, returns a list, or numpy array of $\\mathcal{N}$ realizations of the reduced purity. \n",
    "4. Verify that the average purity of the reduced density matrix verify the formula\n",
    "$$\n",
    "\n",
    "\\mathbb{E}\\left(\\mathrm{tr}(\\rho_A^2)\\right) = \\frac{d_A + d_B}{d_A d_B+1}\n",
    "\n",
    "$$\n",
    "with dimension $d_A = 2^{N_A}$ and $d_B = 2^{N-N_A}$. Focus on $N=8$, $N_A\\le 4$ and $100\\le \\mathcal{N}\\le 1000$. \n"
   ]
  },
  {
   "cell_type": "markdown",
   "id": "488d8c05",
   "metadata": {},
   "source": [
    "### **Hints:**\n",
    "Use the `qi.quantum_info` library tools. Objects that can be useful are \n",
    "1. `qi.quantum_info.Statevector`, with the method `.from_label`\n",
    "2. `qi.quantum_info.random_unitary` function returning a `qi.quantum_info.Operator`\n",
    "3. `qi.quantum_info.partial_trace` function, returning a `qi.quantum_info.DensityMatrix`\n",
    "4. `qi.quantum_info.DensityMatrix` has a method `.purity`."
   ]
  },
  {
   "cell_type": "code",
   "execution_count": 6,
   "id": "207f405e",
   "metadata": {},
   "outputs": [
    {
     "name": "stdout",
     "output_type": "stream",
     "text": [
      "\u001b[0;31mSignature:\u001b[0m \u001b[0mqi\u001b[0m\u001b[0;34m.\u001b[0m\u001b[0mquantum_info\u001b[0m\u001b[0;34m.\u001b[0m\u001b[0mpartial_trace\u001b[0m\u001b[0;34m(\u001b[0m\u001b[0mstate\u001b[0m\u001b[0;34m,\u001b[0m \u001b[0mqargs\u001b[0m\u001b[0;34m)\u001b[0m\u001b[0;34m\u001b[0m\u001b[0;34m\u001b[0m\u001b[0m\n",
      "\u001b[0;31mDocstring:\u001b[0m\n",
      "Return reduced density matrix by tracing out part of quantum state.\n",
      "\n",
      "If all subsystems are traced over this returns the\n",
      ":meth:`~qiskit.quantum_info.DensityMatrix.trace` of the\n",
      "input state.\n",
      "\n",
      "Args:\n",
      "    state (Statevector or DensityMatrix): the input state.\n",
      "    qargs (list): The subsystems to trace over.\n",
      "\n",
      "Returns:\n",
      "    DensityMatrix: The reduced density matrix.\n",
      "\n",
      "Raises:\n",
      "    QiskitError: if input state is invalid.\n",
      "\u001b[0;31mFile:\u001b[0m      ~/miniconda3/lib/python3.11/site-packages/qiskit/quantum_info/states/utils.py\n",
      "\u001b[0;31mType:\u001b[0m      function"
     ]
    }
   ],
   "source": [
    "qi.quantum_info.partial_trace?"
   ]
  },
  {
   "cell_type": "code",
   "execution_count": 11,
   "id": "b62fff0c",
   "metadata": {},
   "outputs": [],
   "source": [
    "# 1. \n",
    "def generate_random_state(N : int) -> qi.quantum_info.Statevector :\n",
    "  psi = qi.quantum_info.Statevector.from_label('0'*N)\n",
    "  u_rand = qi.quantum_info.random_unitary(2**N)\n",
    "  qr = qi.QuantumRegister(N,'data')\n",
    "  qc = qi.QuantumCircuit(qr)\n",
    "  \n",
    "  qc.append(u_rand,qr)\n",
    "\n",
    "  return psi.evolve(qc)\n",
    "\n",
    "# 2. \n",
    "def reduced_density_matrix_purity(Psi: qi.quantum_info.Statevector,\n",
    "                          subsystem: list[int]) -> float:\n",
    "  rho = qi.quantum_info.partial_trace(Psi,subsystem)\n",
    "  return rho.purity()\n",
    "\n",
    "# 3.\n",
    "def random_reduced_purity(subsystem: list[int], \n",
    "                          N: int, Nshots: int) -> list[float]:\n",
    "  res = [] \n",
    "  for _ in range(Nshots):\n",
    "    psi = generate_random_state(N)\n",
    "    pur = reduced_density_matrix_purity(psi,subsystem=subsystem)\n",
    "    res.append(pur.real)\n",
    "  ## TODO: Initialize result list.\n",
    "  ## TODO: Loop over the disorder realizations.\n",
    "  ## TODO: For each realization, initialize a random state, compute purity and append to the results.\n",
    "  return res "
   ]
  },
  {
   "cell_type": "code",
   "execution_count": 15,
   "id": "0ef060d3",
   "metadata": {},
   "outputs": [
    {
     "name": "stdout",
     "output_type": "stream",
     "text": [
      "0.12432957967468278 0.1245136186770428\n"
     ]
    }
   ],
   "source": [
    "psitest = generate_random_state(4)\n",
    "N = 8 \n",
    "NA = N//2\n",
    "exact_result = lambda NA, N: (2**NA + 2**(N-NA))/(2**N+1)\n",
    "list_res = random_reduced_purity(list(range(NA)),N,1000)\n",
    "print(np.mean(list_res),exact_result(NA,N))\n"
   ]
  },
  {
   "cell_type": "markdown",
   "id": "9480db0e",
   "metadata": {},
   "source": [
    "## **Task 1+**\n",
    "What happens for $\\mathbb{E}\\left(\\mathrm{tr}(\\rho_A^q)\\right)$, with generic $q$? \n",
    "1. Obtain, using the replica method discussed, the leading order when $1\\ll d_A\\ll d$ and $1\\ll d_A \\sim \\mathcal{O(d)}$, e.g., $d_A = d/2$. \n",
    "2. Compute the annealed average Renyi entropy\n",
    "$$ \n",
    "S_n = \\frac{1}{1-n}\\log_2\\left[\\mathbb{E}\\left(\\mathrm{tr}(\\rho_A^q)\\right)\\right]. \n",
    "$$\n",
    "3. What happens when $q\\to 1$? "
   ]
  },
  {
   "cell_type": "markdown",
   "id": "b5373118",
   "metadata": {},
   "source": [
    "## **Task 1++**\n",
    "Realistically, if you do many-body dynamics, you should write your own code. In that case, a good exercise is:\n",
    "1. Initialize a quantum state as a `numpy.array`. \n",
    "2. Generate a random unitary acting on the full state. Hint: use `scipy.stats.unitary_group` at present, otherwise implement by hand what is in [this paper](https://arxiv.org/abs/math-ph/0609050v2). \n",
    "3. Reshape the state vector, for a contiguous interval $A$, to construct $R(|\\Psi\\rangle) = X$. From this compute the reduced density matrix $\\rho_A = X X^\\dagger$. \n",
    "4. Compute the purity. Compare the results with `qiskit` to know your implementation is good (testing)."
   ]
  },
  {
   "cell_type": "markdown",
   "id": "0e77b4f2",
   "metadata": {},
   "source": [
    "## **Task 2**\n",
    "Create a brickwall quantum circuit  (Fig. from [Brian Skinner's lecture notes](https://arxiv.org/pdf/2307.02986.pdf)). \n",
    "\n",
    "<img src=circuit.png alt = \"\" width=40% height=20%>\n",
    "\n",
    "Each gate in the figure is a random unitary acting on two qubits. You should apply the gate to two (nearest-neighbors) target circuits. For simplicity, assume open boundary conditions. \n",
    "1. First, create a layer of two body nearest neighboring random gates. Each layer is composed of a gates acting on even bonds ($2i,2i+1$) or odd bonds ($2i+1,2i+2$), depending on the depth $0 \\tau\\le t$\n",
    "2. Compute the reduced purity after one layer of the circuit. What is the average of this operation over many results? What did you expect?\n",
    "3. Compute the reduced purity after each layers, after $t$ layers. For each circuit realization, this should result in a time-series. \n",
    "4. Define a function, that given $N$, $N_A$, $\\mathcal{N}$ (as in Task 1) and $t$ the total depth, gives a matrix $\\mathcal{N}\\times (t+1)$ where each row is a realization of the circuit. (The $+1$ comes because we save also the value at $t=0$).\n",
    "5. Compute the average over the rows, resulting in the average evolution $1\\times t$. From this, compute the Renyi 2 entropy. How is the entanglement growing? Do the computation for $N\\le 12$ and $N_A=N/2$. \n",
    "6. Compare with the prediction $S_2 \\simeq v t$ with $v=-2\\log_2(4/5)$. How good is this? When does it break down?"
   ]
  },
  {
   "cell_type": "code",
   "execution_count": 35,
   "id": "86da7ecb",
   "metadata": {},
   "outputs": [],
   "source": [
    "# 1. \n",
    "def generate_brickwall_layer(N : int, t: int) -> qi.QuantumCircuit :\n",
    "  # u_rand = qi.quantum_info.random_unitary(2**N)\n",
    "  qr = qi.QuantumRegister(N,'data')\n",
    "  qc = qi.QuantumCircuit(qr)\n",
    "  if (t%2==0):\n",
    "    for i in range(0,N,2):\n",
    "      u = qi.quantum_info.random_unitary(2**2)\n",
    "      qc.append(u,[i,i+1])\n",
    "  else: \n",
    "    for i in range(1,N-1,2):\n",
    "      u = qi.quantum_info.random_unitary(2**2)\n",
    "      qc.append(u,[i,i+1])\n",
    "  #\n",
    "    # for i in range(t%2,N-(t%2),2):\n",
    "    #   u = qi.quantum_info.random_unitary(2**2)\n",
    "    #   qc.append(u,[i,i+1])\n",
    "\n",
    "  return qc \n",
    "\n",
    "# 2. \n",
    "def purity_evolution_realization(subsystem: list[int], \n",
    "                                 N: int, t_total: int) -> list[float]:\n",
    "  psi = qi.quantum_info.Statevector.from_label('0'*N)\n",
    "  res = [1]\n",
    "  for t in range(t_total):\n",
    "    qc = generate_brickwall_layer(N,t)\n",
    "    psi = psi.evolve(qc)\n",
    "    pur = reduced_density_matrix_purity(psi,subsystem=subsystem)\n",
    "    res.append(pur.real)\n",
    "    \n",
    "  return res \n",
    "\n",
    "# 3.\n",
    "def purity_evolution_average(subsystem: list[int], \n",
    "                        N: int, t_total: int, Nshots: int) -> np.array:\n",
    "  tot_reals = []\n",
    "  for _ in range(Nshots):\n",
    "    tot_reals.append(purity_evolution_realization(subsystem,N,t_total))\n",
    "  tot_reals = np.array(tot_reals)\n",
    "  return np.mean(tot_reals,axis=0)\n",
    "\n",
    "exact_s_2 = lambda t : np.log(5/4)*t "
   ]
  },
  {
   "cell_type": "code",
   "execution_count": 40,
   "id": "9d5bdfb6",
   "metadata": {},
   "outputs": [
    {
     "data": {
      "text/plain": [
       "[<matplotlib.lines.Line2D at 0x2a1abed90>]"
      ]
     },
     "execution_count": 40,
     "metadata": {},
     "output_type": "execute_result"
    },
    {
     "data": {
      "image/png": "[encoded data removed]",
      "text/plain": [
       "<Figure size 640x480 with 1 Axes>"
      ]
     },
     "metadata": {},
     "output_type": "display_data"
    }
   ],
   "source": [
    "N = 12\n",
    "NA = N//2\n",
    "subsysA = list(range(NA))\n",
    "# for _ in range(4):\n",
    "#   purity = purity_evolution_realization(subsysA,N,4*N)\n",
    "#   plt.plot(-np.log(purity))\n",
    "tmax = 4*N\n",
    "trange= np.arange(tmax+1)\n",
    "average_purity = purity_evolution_average(subsysA,N,tmax,100)\n",
    "plt.plot(trange[::2],-np.log(average_purity)[::2],c='black',lw=3)\n",
    "plt.axhline(np.log(2)*(NA-1),c='gold',ls='--',lw=2)\n",
    "plt.xlabel(r'$t$')\n",
    "plt.ylabel(r'$S_2$')\n",
    "plt.plot(trange[:10],exact_s_2(trange)[:10],c='C1',lw=3)\n"
   ]
  },
  {
   "cell_type": "markdown",
   "id": "cb415e22",
   "metadata": {},
   "source": [
    "## **Task 3 (probably homework)**\n",
    "What happens if now we add measurements? Let us implement measurement circuits.\n",
    "1. Check for a 2-qubit random gate, what happens when I measure one of the qubit to the subsystem purity? What does this means for entanglement?\n",
    "2. Write a circuit where after each unitary layer, a layer of random on-site measurements (of $Z_i$) is applied. Each site is measured with a probability $p$. \n",
    "3. Repeat the realization analysis for $N=8,12$ and $\\mathcal{N}=100$, varying $p$ from $0$ to $1$. The case $p=0$ should reproduce the previous results (no measurements happen). At $p=1$ what is the final state? Is it entangled? What happens in between?"
   ]
  }
 ],
 "metadata": {
  "kernelspec": {
   "display_name": "Python 3",
   "language": "python",
   "name": "python3"
  },
  "language_info": {
   "codemirror_mode": {
    "name": "ipython",
    "version": 3
   },
   "file_extension": ".py",
   "mimetype": "text/x-python",
   "name": "python",
   "nbconvert_exporter": "python",
   "pygments_lexer": "ipython3",
   "version": "3.11.8"
  }
 },
 "nbformat": 4,
 "nbformat_minor": 5
}
